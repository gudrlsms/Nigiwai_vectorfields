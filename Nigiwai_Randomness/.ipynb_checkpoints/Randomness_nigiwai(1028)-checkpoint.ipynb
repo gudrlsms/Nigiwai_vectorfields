{
 "cells": [
  {
   "cell_type": "code",
   "execution_count": 1,
   "id": "552f66a4",
   "metadata": {},
   "outputs": [],
   "source": [
    "import pandas as pd\n",
    "import matplotlib.pyplot as plt\n",
    "from scipy.sparse import csc_matrix\n",
    "from scipy.sparse.linalg import lsqr\n",
    "from matplotlib import cm\n",
    "from scipy.integrate import dblquad\n",
    "import sympy\n",
    "import numpy as np\n",
    "from tqdm import tqdm\n",
    "import random"
   ]
  },
  {
   "cell_type": "markdown",
   "id": "69bfcfcd",
   "metadata": {},
   "source": [
    "# VADERE function"
   ]
  },
  {
   "cell_type": "code",
   "execution_count": 2,
   "id": "d86587a3",
   "metadata": {},
   "outputs": [],
   "source": [
    "# Loading vadere data\n",
    "def load_vadere(df, scale, start_frame, end_frame, frame_skip):\n",
    "    nPed = int(df['pedestrianId'].max())\n",
    "    df['pedestrianId'] -= 1 # PID start with 0\n",
    "    X = np.full((nPed,end_frame),np.nan)  # (pid,frame),  x == nan means the person is not in the field\n",
    "    Y = np.full((nPed,end_frame),np.nan)  # (pid,frame)\n",
    "    print(\"Interpolating pedestrian trajectory...\")\n",
    "    for pid,tid,st,et,sx,ex,sy,ey in tqdm(zip(df['pedestrianId'],df['targetId-PID2'],df['simTime'],df['endTime-PID1'],df['startX-PID1'],df['endX-PID1'],df['startY-PID1'],df['endY-PID1']),total=df.shape[0]):\n",
    "        pid = int(pid)\n",
    "        start_fr = max(int(round(st/frame_skip)),start_frame)\n",
    "        end_fr = min(int(round(et/frame_skip))+1,end_frame)\n",
    "        X[pid,start_fr:end_fr] = np.linspace(sx,ex, end_fr-start_fr)\n",
    "        Y[pid,start_fr:end_fr] = np.linspace(sy,ey, end_fr-start_fr)\n",
    "    return(scale*X,scale*Y)\n",
    "\n",
    "# Pamameters for loading Vadere data\n",
    "scale = 1\n",
    "start_frame = 0\n",
    "end_frame = 301\n",
    "frame_skip = 2"
   ]
  },
  {
   "cell_type": "markdown",
   "id": "11b227b2",
   "metadata": {},
   "source": [
    "# Data set"
   ]
  },
  {
   "cell_type": "code",
   "execution_count": 3,
   "id": "3322c0d1",
   "metadata": {},
   "outputs": [
    {
     "data": {
      "text/plain": [
       "\"\\ns900 = pd.read_csv('data/300fr_spawn/spawn_3.txt',header=0,delim_whitespace=True,dtype='f8')\\ns1800 = pd.read_csv('data/300fr_spawn/spawn_6.txt',header=0,delim_whitespace=True,dtype='f8')\\n\\ndf_list=[s900, s1800]\\n\""
      ]
     },
     "execution_count": 3,
     "metadata": {},
     "output_type": "execute_result"
    }
   ],
   "source": [
    "# Speed difference data\n",
    "\"\"\"\n",
    "s_fast1000 = pd.read_csv('data/500fr_speed/shop_fast1000.txt',header=0,delim_whitespace=True,dtype='f8')\n",
    "s_normal1000 = pd.read_csv('data/500fr_speed/shop_normal1000.txt',header=0,delim_whitespace=True,dtype='f8')\n",
    "s_normal500_fast500 = pd.read_csv('data/500fr_speed/shop_normal500_fast500.txt',header=0,delim_whitespace=True,dtype='f8')\n",
    "p_fast1000 = pd.read_csv('data/500fr_speed/pass_fast1000.txt',header=0,delim_whitespace=True,dtype='f8')\n",
    "p_normal1000 = pd.read_csv('data/500fr_speed/pass_normal1000.txt',header=0,delim_whitespace=True,dtype='f8')\n",
    "p_normal500_fast500 = pd.read_csv('data/500fr_speed/pass_normal500_fast500.txt',header=0,delim_whitespace=True,dtype='f8')\n",
    "\n",
    "df_list=[p_fast1000, p_normal1000, p_normal500_fast500, s_fast1000, s_normal1000, s_normal500_fast500]\n",
    "\"\"\"\n",
    "\n",
    "# shopping ratio test data\n",
    "df_list = []\n",
    "for i in range(0,11):\n",
    "    df_list.append(pd.read_csv('data/500fr_ratio_test/{}%.txt'.format(i*10),header=0,delim_whitespace=True,dtype='f8'))\n",
    "\n",
    "# Consgestion data\n",
    "\"\"\"\n",
    "s900 = pd.read_csv('data/300fr_spawn/spawn_3.txt',header=0,delim_whitespace=True,dtype='f8')\n",
    "s1800 = pd.read_csv('data/300fr_spawn/spawn_6.txt',header=0,delim_whitespace=True,dtype='f8')\n",
    "\n",
    "df_list=[s900, s1800]\n",
    "\"\"\""
   ]
  },
  {
   "cell_type": "markdown",
   "id": "6fb3b4fa",
   "metadata": {},
   "source": [
    "# Nigiwai indicator"
   ]
  },
  {
   "cell_type": "code",
   "execution_count": 4,
   "id": "e36b2a90",
   "metadata": {},
   "outputs": [],
   "source": [
    "# parameters for indicators\n",
    "fr_number = 9 # number of velocity data for calculation of randomness of each ped\n",
    "const_each = 0.5 # constant for weight between R_1 and R_2 in indicator for randomness of each pedestrian\n",
    "const_all = 0 # constant for weight between R_1 and R_2 in indicator for randomness of all pedestrian\n",
    "const_p = 0.5 # constant for weight between \"each\" and \"all\" in nigiwai indicator"
   ]
  },
  {
   "cell_type": "code",
   "execution_count": 5,
   "id": "addc2af5",
   "metadata": {},
   "outputs": [
    {
     "name": "stderr",
     "output_type": "stream",
     "text": [
      "  3%|██▍                                                                       | 1868/56312 [00:00<00:02, 18650.71it/s]"
     ]
    },
    {
     "name": "stdout",
     "output_type": "stream",
     "text": [
      "Interpolating pedestrian trajectory...\n"
     ]
    },
    {
     "name": "stderr",
     "output_type": "stream",
     "text": [
      "100%|█████████████████████████████████████████████████████████████████████████| 56312/56312 [00:02<00:00, 19029.28it/s]\n",
      "  2%|█▌                                                                        | 1257/61781 [00:00<00:04, 12528.08it/s]"
     ]
    },
    {
     "name": "stdout",
     "output_type": "stream",
     "text": [
      "Interpolating pedestrian trajectory...\n"
     ]
    },
    {
     "name": "stderr",
     "output_type": "stream",
     "text": [
      "100%|█████████████████████████████████████████████████████████████████████████| 61781/61781 [00:03<00:00, 18570.36it/s]\n",
      "  3%|██▌                                                                       | 2244/66020 [00:00<00:02, 22412.29it/s]"
     ]
    },
    {
     "name": "stdout",
     "output_type": "stream",
     "text": [
      "Interpolating pedestrian trajectory...\n"
     ]
    },
    {
     "name": "stderr",
     "output_type": "stream",
     "text": [
      "100%|█████████████████████████████████████████████████████████████████████████| 66020/66020 [00:03<00:00, 19634.58it/s]\n",
      "  2%|█▎                                                                        | 1233/71541 [00:00<00:05, 12245.08it/s]"
     ]
    },
    {
     "name": "stdout",
     "output_type": "stream",
     "text": [
      "Interpolating pedestrian trajectory...\n"
     ]
    },
    {
     "name": "stderr",
     "output_type": "stream",
     "text": [
      "100%|█████████████████████████████████████████████████████████████████████████| 71541/71541 [00:03<00:00, 19034.04it/s]\n",
      "  2%|█▌                                                                        | 1658/76716 [00:00<00:04, 16450.70it/s]"
     ]
    },
    {
     "name": "stdout",
     "output_type": "stream",
     "text": [
      "Interpolating pedestrian trajectory...\n"
     ]
    },
    {
     "name": "stderr",
     "output_type": "stream",
     "text": [
      "100%|█████████████████████████████████████████████████████████████████████████| 76716/76716 [00:05<00:00, 14409.99it/s]\n",
      "  2%|█▎                                                                        | 1487/86921 [00:00<00:06, 14026.16it/s]"
     ]
    },
    {
     "name": "stdout",
     "output_type": "stream",
     "text": [
      "Interpolating pedestrian trajectory...\n"
     ]
    },
    {
     "name": "stderr",
     "output_type": "stream",
     "text": [
      "100%|█████████████████████████████████████████████████████████████████████████| 86921/86921 [00:04<00:00, 19172.88it/s]\n",
      "  5%|███▌                                                                      | 4497/92871 [00:00<00:04, 21068.45it/s]"
     ]
    },
    {
     "name": "stdout",
     "output_type": "stream",
     "text": [
      "Interpolating pedestrian trajectory...\n"
     ]
    },
    {
     "name": "stderr",
     "output_type": "stream",
     "text": [
      "100%|█████████████████████████████████████████████████████████████████████████| 92871/92871 [00:04<00:00, 19032.33it/s]\n",
      "  2%|█                                                                        | 1646/107313 [00:00<00:06, 16190.73it/s]"
     ]
    },
    {
     "name": "stdout",
     "output_type": "stream",
     "text": [
      "Interpolating pedestrian trajectory...\n"
     ]
    },
    {
     "name": "stderr",
     "output_type": "stream",
     "text": [
      "100%|███████████████████████████████████████████████████████████████████████| 107313/107313 [00:06<00:00, 15341.13it/s]\n",
      "  1%|▉                                                                        | 1586/120313 [00:00<00:08, 14762.55it/s]"
     ]
    },
    {
     "name": "stdout",
     "output_type": "stream",
     "text": [
      "Interpolating pedestrian trajectory...\n"
     ]
    },
    {
     "name": "stderr",
     "output_type": "stream",
     "text": [
      "100%|███████████████████████████████████████████████████████████████████████| 120313/120313 [00:06<00:00, 18484.82it/s]\n",
      "  2%|█▏                                                                       | 2216/143364 [00:00<00:06, 22093.97it/s]"
     ]
    },
    {
     "name": "stdout",
     "output_type": "stream",
     "text": [
      "Interpolating pedestrian trajectory...\n"
     ]
    },
    {
     "name": "stderr",
     "output_type": "stream",
     "text": [
      "100%|███████████████████████████████████████████████████████████████████████| 143364/143364 [00:08<00:00, 17148.37it/s]\n",
      "  2%|█▊                                                                       | 3890/158287 [00:00<00:07, 19544.34it/s]"
     ]
    },
    {
     "name": "stdout",
     "output_type": "stream",
     "text": [
      "Interpolating pedestrian trajectory...\n"
     ]
    },
    {
     "name": "stderr",
     "output_type": "stream",
     "text": [
      "100%|███████████████████████████████████████████████████████████████████████| 158287/158287 [00:08<00:00, 18293.86it/s]\n"
     ]
    }
   ],
   "source": [
    "indicator_list_graph = []\n",
    "# Data process\n",
    "for df in df_list:\n",
    "    df_vadere = load_vadere(df, scale, start_frame, end_frame, frame_skip)\n",
    "    \n",
    "    # Adding Gaussian noise\n",
    "    noise_std = 0\n",
    "    for i in range(0,end_frame-1):\n",
    "        noise = np.random.normal(0,noise_std,len(df_vadere[0]))\n",
    "        df_vadere[0][:,i] += noise\n",
    "        noise = np.random.normal(0,noise_std,len(df_vadere[0]))\n",
    "        df_vadere[1][:,i] += noise\n",
    "    \n",
    "    # position coordinate data\n",
    "    df_x = df_vadere[0]\n",
    "    df_y = df_vadere[1]\n",
    "    \n",
    "    # Delete singular points on simulation data(entrance, exit)\n",
    "    for i in range(len(df_y)):\n",
    "        for j in range(len(df_y[i])):\n",
    "            if df_y[i][j] > 45 or df_y[i][j] < 5:\n",
    "                df_x[i][j] = np.nan\n",
    "                df_y[i][j] = np.nan\n",
    "    \n",
    "    # velocity data\n",
    "    df_u = np.full((len(df_x),end_frame),np.nan)\n",
    "    df_v = np.full((len(df_y),end_frame),np.nan)\n",
    "    for i in range(end_frame):\n",
    "        if i == end_frame-1:\n",
    "            df_u[:,i] = np.full((len(df_x)),np.nan)\n",
    "            df_v[:,i] = np.full((len(df_x)),np.nan)\n",
    "        else:\n",
    "            df_u[:,i] = df_x[:,i+1] - df_x[:,i]\n",
    "            df_v[:,i] = df_y[:,i+1] - df_y[:,i]\n",
    "    \n",
    "    # speed data\n",
    "    df_norm = np.sqrt(df_u**2 + df_v**2)\n",
    "    \n",
    "    # acceleration data\n",
    "    df_u_acc = np.full((len(df_u),end_frame-1),np.nan)\n",
    "    df_v_acc = np.full((len(df_v),end_frame-1),np.nan)\n",
    "    for i in range(end_frame-1):\n",
    "        if i == end_frame-2:\n",
    "            df_u_acc[:,i] = np.full((len(df_u)),np.nan)\n",
    "            df_v_acc[:,i] = np.full((len(df_v)),np.nan)\n",
    "        else:\n",
    "            df_u_acc[:,i] = df_u[:,i+1] - df_u[:,i]\n",
    "            df_v_acc[:,i] = df_v[:,i+1] - df_v[:,i]\n",
    "    \n",
    "    # accelerating force data\n",
    "    df_acc_force = np.sqrt(df_u_acc**2 + df_v_acc**2)\n",
    "    \n",
    "    # If velocity is equal to 0(or less than std of noise), it takes former velocity\n",
    "    for i in range(len(df_norm)):\n",
    "        for j in range(len(df_norm[i])):\n",
    "            if df_norm[i][j] <= noise_std:\n",
    "                if not i==0 and not j==0:\n",
    "                        df_u[i][j] = df_u[i][j-1]\n",
    "                        df_v[i][j] = df_v[i][j-1]\n",
    "    df_norm = np.sqrt(df_u**2 + df_v**2)\n",
    "    \n",
    "    # normalize velocity\n",
    "    for i in range(len(df_u)):\n",
    "        for j in range(len(df_u[i])):\n",
    "            if not df_norm[i][j] == 0:\n",
    "                df_u[i][j] = df_u[i][j] / df_norm[i][j]\n",
    "                df_v[i][j] = df_v[i][j] / df_norm[i][j]\n",
    "    \n",
    "    # normalized velocity data for 2nd trigonometic moment\n",
    "    df_u2 = df_u**2 - df_v**2\n",
    "    df_v2 = 2*df_u*df_v\n",
    "    \n",
    "    # nigiwai indicator\n",
    "    indicator_list = []\n",
    "    for target_fr in range(fr_number+10, round(end_frame/frame_skip)-1):\n",
    "        # data for \"randomness of each ped(function \"f\")\" at target frame range\n",
    "        df_u_f = df_u[:,target_fr-fr_number:target_fr+1]\n",
    "        df_v_f = df_v[:,target_fr-fr_number:target_fr+1]\n",
    "        \n",
    "        # 2nd moment\n",
    "        df_u2_f = df_u2[:,target_fr-fr_number:target_fr+1]\n",
    "        df_v2_f = df_v2[:,target_fr-fr_number:target_fr+1]\n",
    "    \n",
    "        # data for function \"randomness of all ped(function \"g\")\" at target frame\n",
    "        df_u_g = df_u[:,target_fr]\n",
    "        df_v_g = df_v[:,target_fr]\n",
    "        \n",
    "        df_u2_g = df_u2[:,target_fr]\n",
    "        df_v2_g = df_v2[:,target_fr]\n",
    "        \n",
    "        df_u_g = df_u_g[~np.isnan(df_u_g)]\n",
    "        df_v_g = df_v_g[~np.isnan(df_v_g)]\n",
    "        df_u2_g = df_u2_g[~np.isnan(df_u2_g)]\n",
    "        df_v2_g = df_v2_g[~np.isnan(df_v2_g)]\n",
    "        \n",
    "        # indicator: randomness of each pedestrian(function \"f\")\n",
    "        indicator_f_r1 = np.sqrt(np.sum(df_u_f,axis=1)**2 + np.sum(df_v_f,axis=1)**2) / (fr_number+1)\n",
    "        indicator_f_r2 = np.sqrt(np.sum(df_u2_f,axis=1)**2 + np.sum(df_v2_f,axis=1)**2) / (fr_number+1)\n",
    "        \n",
    "        indicator_f = 1 - (const_each*indicator_f_r1 + (1-const_each)*indicator_f_r2)\n",
    "        \n",
    "        # indicator: randomness of all pedestrian(function \"g\")\n",
    "        if len(df_u_g) == 0:\n",
    "            indicator_g = 0\n",
    "        else:\n",
    "            indicator_g_r1 = np.sqrt(np.sum(df_u_g)**2 + np.sum(df_v_g)**2) / len(df_u_g)\n",
    "            indicator_g_r2 = np.sqrt(np.sum(df_u2_g)**2 + np.sum(df_v2_g)**2) / len(df_u2_g)\n",
    "            \n",
    "            indicator_g = 1 - (const_all*indicator_g_r1 + (1-const_all)*indicator_g_r2)\n",
    "                \n",
    "        # indicator: acceleration force\n",
    "        df_acc_force_target = df_acc_force[:,target_fr-fr_number:target_fr+1]\n",
    "        indicator_acc_force = np.sum(df_acc_force_target,axis=1) / (fr_number+1)\n",
    "        \n",
    "        # Weithed acceleration force\n",
    "        total_acc_force = np.sum(indicator_acc_force[~np.isnan(indicator_acc_force)])\n",
    "        \n",
    "        # indicator: acceleration\n",
    "        df_u_acc_target = df_u_acc[:,target_fr-fr_number:target_fr+1]\n",
    "        df_v_acc_target = df_v_acc[:,target_fr-fr_number:target_fr+1]\n",
    "        indicator_acc = np.sqrt((np.sum(df_u_acc,axis=1))**2 + (np.sum(df_v_acc,axis=1))**2) / (fr_number+1)\n",
    "        \n",
    "        # Calculate indicator for each ped        \n",
    "        indicator_each_ped = indicator_acc_force * indicator_f\n",
    "        #indicator_each_ped = indicator_f\n",
    "        #indicator_each_ped = indicator_acc_force\n",
    "        \n",
    "        indicator_each_ped = indicator_each_ped[~np.isnan(indicator_each_ped)]\n",
    "        \n",
    "        if len(indicator_each_ped) == 0:\n",
    "            indicator_each_ped = 0\n",
    "        else:\n",
    "            indicator_each_ped = np.sum(indicator_each_ped)/len(indicator_each_ped)\n",
    "            #indicator_each_ped = np.sum(indicator_each_ped)/total_acc_force\n",
    "            \n",
    "        # Calculate indicator\n",
    "        indicator = (indicator_g**const_p) * (indicator_each_ped**(1-const_p))\n",
    "        #indicator = indicator_each_ped\n",
    "        #indicator = indicator_g\n",
    "        \n",
    "        indicator_list.append(indicator) # generate list of indicators\n",
    "    \n",
    "    # moving average for indicator graph\n",
    "    const_ma = 0.05\n",
    "    indicator_list_ma = []\n",
    "    indicator_list_ma.append(indicator_list[0])\n",
    "    for i in range(len(indicator_list)-1):\n",
    "        indicator_list_ma.append(const_ma*indicator_list[i+1] + (1-const_ma)*indicator_list_ma[i])\n",
    "    \n",
    "    # generate graph\n",
    "    indicator_list_graph.append(indicator_list_ma)\n"
   ]
  },
  {
   "cell_type": "markdown",
   "id": "e00fd7fe",
   "metadata": {},
   "source": [
    "Draw figure"
   ]
  },
  {
   "cell_type": "code",
   "execution_count": 6,
   "id": "6630823e",
   "metadata": {},
   "outputs": [
    {
     "data": {
      "image/png": "[encoded data removed]",
      "text/plain": [
       "<Figure size 720x720 with 1 Axes>"
      ]
     },
     "metadata": {
      "needs_background": "light"
     },
     "output_type": "display_data"
    }
   ],
   "source": [
    "plt.figure(figsize=(10, 10))\n",
    "plt.title('Indicator')\n",
    "x_values = list(range(fr_number+10, round(end_frame/frame_skip)-1))\n",
    "for i in range(len(indicator_list_graph)):\n",
    "    plt.plot(x_values, indicator_list_graph[i])\n",
    "#plt.axis([fr_number+5, round(end_frame/frame_skip)-1, 0.1, 0.6])\n",
    "plt.legend(['0%','10%', '20%','30%','40%','50%','60%','70%','80%','90%','100%'])\n",
    "plt.show()"
   ]
  },
  {
   "cell_type": "code",
   "execution_count": null,
   "id": "135aebb6",
   "metadata": {},
   "outputs": [],
   "source": []
  }
 ],
 "metadata": {
  "kernelspec": {
   "display_name": "Python 3",
   "language": "python",
   "name": "python3"
  },
  "language_info": {
   "codemirror_mode": {
    "name": "ipython",
    "version": 3
   },
   "file_extension": ".py",
   "mimetype": "text/x-python",
   "name": "python",
   "nbconvert_exporter": "python",
   "pygments_lexer": "ipython3",
   "version": "3.8.8"
  }
 },
 "nbformat": 4,
 "nbformat_minor": 5
}
